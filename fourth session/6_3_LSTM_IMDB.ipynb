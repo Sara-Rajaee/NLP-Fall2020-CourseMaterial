{
  "nbformat": 4,
  "nbformat_minor": 0,
  "metadata": {
    "colab": {
      "name": "Copy of 6.3.LSTM_IMDB.ipynb",
      "provenance": []
    },
    "kernelspec": {
      "name": "python3",
      "display_name": "Python 3"
    },
    "accelerator": "TPU"
  },
  "cells": [
    {
      "cell_type": "markdown",
      "metadata": {
        "id": "YMaonhezkd6c"
      },
      "source": [
        "# IMDB Movie Review Classification using LSTM"
      ]
    },
    {
      "cell_type": "markdown",
      "metadata": {
        "id": "h65WQXkrksCX"
      },
      "source": [
        "Obtain and preprocess the data:"
      ]
    },
    {
      "cell_type": "code",
      "metadata": {
        "id": "Dd7Xtkq_zobI",
        "colab": {
          "base_uri": "https://localhost:8080/"
        },
        "outputId": "a689c1df-e69e-4497-c769-053b8751467f"
      },
      "source": [
        "#!pip install numpy==1.16.2\n",
        "import numpy as np\n",
        "print(np.version)"
      ],
      "execution_count": null,
      "outputs": [
        {
          "output_type": "stream",
          "text": [
            "<module 'numpy.version' from '/usr/local/lib/python3.6/dist-packages/numpy/version.py'>\n"
          ],
          "name": "stdout"
        }
      ]
    },
    {
      "cell_type": "code",
      "metadata": {
        "id": "7va_YVEAkTNi",
        "colab": {
          "base_uri": "https://localhost:8080/"
        },
        "outputId": "50b1da4e-6085-41af-bad7-897523cff982"
      },
      "source": [
        "from tensorflow.keras.datasets import imdb\n",
        "from tensorflow.keras.preprocessing import sequence\n",
        "\n",
        "max_features = 10000\n",
        "maxlen = 500\n",
        "batch_size = 25\n",
        "\n",
        "print('Loading data...')\n",
        "(input_train, y_train), (input_test, y_test) = imdb.load_data(num_words=max_features)\n",
        "\n",
        "print(len(input_train), 'train sequences')\n",
        "print(len(input_test), 'test sequences')\n",
        "print('Pad sequences (samples x time)')\n",
        "\n",
        "input_train = sequence.pad_sequences(input_train, maxlen=maxlen)\n",
        "input_test = sequence.pad_sequences(input_test, maxlen=maxlen)\n",
        "print('input_train shape:', input_train.shape)\n",
        "print('input_test shape:', input_test.shape)"
      ],
      "execution_count": null,
      "outputs": [
        {
          "output_type": "stream",
          "text": [
            "Loading data...\n",
            "Downloading data from https://storage.googleapis.com/tensorflow/tf-keras-datasets/imdb.npz\n",
            "17465344/17464789 [==============================] - 1s 0us/step\n",
            "25000 train sequences\n",
            "25000 test sequences\n",
            "Pad sequences (samples x time)\n",
            "input_train shape: (25000, 500)\n",
            "input_test shape: (25000, 500)\n"
          ],
          "name": "stdout"
        }
      ]
    },
    {
      "cell_type": "markdown",
      "metadata": {
        "id": "ZyoOME4akyI8"
      },
      "source": [
        "Let’s train a simple recurrent network using an `Embedding` layer and a `SimpleRNN` layer."
      ]
    },
    {
      "cell_type": "code",
      "metadata": {
        "id": "VWM4mrw1kvOy",
        "colab": {
          "base_uri": "https://localhost:8080/"
        },
        "outputId": "046bc12c-15f2-4f60-b789-13ab23ec543c"
      },
      "source": [
        "from tensorflow.keras.layers import Dense, Embedding, SimpleRNN\n",
        "from tensorflow.keras.models import Sequential\n",
        "\n",
        "from tensorflow.keras.layers import LSTM\n",
        "\n",
        "model = Sequential()\n",
        "model.add(Embedding(max_features, 50))\n",
        "model.add(LSTM(32,recurrent_dropout=0.2))\n",
        "model.add(Dense(1, activation='sigmoid'))\n",
        "model.compile(optimizer='rmsprop',\n",
        "              loss='binary_crossentropy',\n",
        "              metrics=['acc'])\n",
        "\n",
        "history = model.fit(input_train, y_train,\n",
        "                    epochs=10,\n",
        "                    batch_size=128,\n",
        "                    validation_split=0.2)"
      ],
      "execution_count": null,
      "outputs": [
        {
          "output_type": "stream",
          "text": [
            "Epoch 1/10\n",
            "157/157 [==============================] - 87s 554ms/step - loss: 0.5046 - acc: 0.7651 - val_loss: 0.4162 - val_acc: 0.8222\n",
            "Epoch 2/10\n",
            "157/157 [==============================] - 91s 577ms/step - loss: 0.3015 - acc: 0.8831 - val_loss: 0.3011 - val_acc: 0.8828\n",
            "Epoch 3/10\n",
            "157/157 [==============================] - 87s 557ms/step - loss: 0.2400 - acc: 0.9093 - val_loss: 0.2944 - val_acc: 0.8838\n",
            "Epoch 4/10\n",
            "157/157 [==============================] - 88s 559ms/step - loss: 0.2027 - acc: 0.9257 - val_loss: 0.3355 - val_acc: 0.8786\n",
            "Epoch 5/10\n",
            "157/157 [==============================] - 89s 565ms/step - loss: 0.1775 - acc: 0.9367 - val_loss: 0.2985 - val_acc: 0.8814\n",
            "Epoch 6/10\n",
            "157/157 [==============================] - 89s 568ms/step - loss: 0.1568 - acc: 0.9449 - val_loss: 0.4453 - val_acc: 0.8404\n",
            "Epoch 7/10\n",
            "157/157 [==============================] - 90s 573ms/step - loss: 0.1389 - acc: 0.9500 - val_loss: 0.3435 - val_acc: 0.8836\n",
            "Epoch 8/10\n",
            "157/157 [==============================] - 90s 576ms/step - loss: 0.1251 - acc: 0.9567 - val_loss: 0.3600 - val_acc: 0.8772\n",
            "Epoch 9/10\n",
            "157/157 [==============================] - 88s 563ms/step - loss: 0.1181 - acc: 0.9592 - val_loss: 0.3565 - val_acc: 0.8596\n",
            "Epoch 10/10\n",
            "157/157 [==============================] - 89s 565ms/step - loss: 0.1090 - acc: 0.9634 - val_loss: 0.3984 - val_acc: 0.8810\n"
          ],
          "name": "stdout"
        }
      ]
    },
    {
      "cell_type": "code",
      "metadata": {
        "id": "Tmt32urMlDhk",
        "colab": {
          "base_uri": "https://localhost:8080/",
          "height": 545
        },
        "outputId": "4ce99846-6738-488e-ba59-1d05f54f6b1e"
      },
      "source": [
        "import matplotlib.pyplot as plt\n",
        "\n",
        "acc = history.history['acc']\n",
        "val_acc = history.history['val_acc']\n",
        "loss = history.history['loss']\n",
        "val_loss = history.history['val_loss']\n",
        "epochs = range(1, len(acc) + 1)\n",
        "\n",
        "plt.plot(epochs, acc, 'bo', label='Training acc')\n",
        "plt.plot(epochs, val_acc, 'b', label='Validation acc')\n",
        "plt.title('Training and validation accuracy')\n",
        "plt.legend()\n",
        "plt.figure()\n",
        "plt.plot(epochs, loss, 'bo', label='Training loss')\n",
        "plt.plot(epochs, val_loss, 'b', label='Validation loss')\n",
        "plt.title('Training and validation loss')\n",
        "plt.legend()\n",
        "plt.show()\n"
      ],
      "execution_count": null,
      "outputs": [
        {
          "output_type": "display_data",
          "data": {
            "image/png": "[encoded data removed]",
            "text/plain": [
              "<Figure size 432x288 with 1 Axes>"
            ]
          },
          "metadata": {
            "tags": []
          }
        },
        {
          "output_type": "display_data",
          "data": {
            "image/png": "[encoded data removed]",
            "text/plain": [
              "<Figure size 432x288 with 1 Axes>"
            ]
          },
          "metadata": {
            "tags": []
          }
        }
      ]
    },
    {
      "cell_type": "markdown",
      "metadata": {
        "id": "XbmKDrGNlQPM"
      },
      "source": [
        "This time, you achieve up to 89% validation accuracy. Not bad: certainly much better\n",
        "than the `SimpleRNN` network—that’s largely because LSTM suffers much less from the\n",
        "vanishing-gradient problem—and slightly better than the fully connected approach\n",
        "from chapter 3, even though you’re looking at less data than you were in chapter 3.\n",
        "You’re truncating sequences after 500 timesteps, whereas in chapter 3, you were considering\n",
        "full sequences.\n",
        "\n",
        "But this result isn’t groundbreaking for such a computationally intensive\n",
        "approach. Why isn’t LSTM performing better? One reason is that you made no effort\n",
        "to tune hyperparameters such as the embeddings dimensionality or the LSTM output\n",
        "dimensionality. Another may be lack of regularization. \n",
        "\n",
        "But honestly, the primary reason\n",
        "is that analyzing the global, long-term structure of the reviews (what LSTM is good\n",
        "at) isn’t helpful for a sentiment-analysis problem. Such a basic problem is well solved\n",
        "by looking at what words occur in each review, and at what frequency. That’s what the\n",
        "first fully connected approach looked at. But there are far more difficult natural language\n",
        "processing problems out there, where the strength of LSTM will become\n",
        "apparent: in particular, question-answering and machine translation."
      ]
    }
  ]
}