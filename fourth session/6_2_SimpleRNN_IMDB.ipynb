{
  "nbformat": 4,
  "nbformat_minor": 0,
  "metadata": {
    "colab": {
      "name": "Copy of 6.2.SimpleRNN_IMDB.ipynb",
      "provenance": []
    },
    "kernelspec": {
      "name": "python2",
      "display_name": "Python 2"
    }
  },
  "cells": [
    {
      "cell_type": "markdown",
      "metadata": {
        "id": "YMaonhezkd6c"
      },
      "source": [
        "# IMDB Movie Review Classification using SimpleRNN"
      ]
    },
    {
      "cell_type": "markdown",
      "metadata": {
        "id": "h65WQXkrksCX"
      },
      "source": [
        "Obtain and preprocess the data:"
      ]
    },
    {
      "cell_type": "code",
      "metadata": {
        "id": "e3jmSXXI1NJb",
        "colab": {
          "base_uri": "https://localhost:8080/"
        },
        "outputId": "9f41b99c-dd7d-4abe-f147-444d064898d5"
      },
      "source": [
        "#!pip install numpy==1.16.2\n",
        "import numpy as np\n",
        "print(np.version)"
      ],
      "execution_count": null,
      "outputs": [
        {
          "output_type": "stream",
          "text": [
            "<module 'numpy.version' from '/usr/local/lib/python2.7/dist-packages/numpy/version.pyc'>\n"
          ],
          "name": "stdout"
        }
      ]
    },
    {
      "cell_type": "code",
      "metadata": {
        "id": "7va_YVEAkTNi",
        "colab": {
          "base_uri": "https://localhost:8080/"
        },
        "outputId": "64f14ed7-e091-4483-f97a-3645d79b4d83"
      },
      "source": [
        "from tensorflow.keras.datasets import imdb\n",
        "from tensorflow.keras.preprocessing import sequence\n",
        "\n",
        "max_features = 10000\n",
        "maxlen = 500\n",
        "batch_size = 32\n",
        "\n",
        "print('Loading data...')\n",
        "(input_train, y_train), (input_test, y_test) = imdb.load_data(num_words=max_features)\n",
        "\n",
        "print(len(input_train), 'train sequences')\n",
        "print(len(input_test), 'test sequences')\n",
        "print('Pad sequences (samples x time)')\n",
        "\n",
        "input_train = sequence.pad_sequences(input_train, maxlen=maxlen)\n",
        "input_test = sequence.pad_sequences(input_test, maxlen=maxlen)\n",
        "print('input_train shape:', input_train.shape)\n",
        "print('input_test shape:', input_test.shape)"
      ],
      "execution_count": null,
      "outputs": [
        {
          "output_type": "stream",
          "text": [
            "Loading data...\n",
            "Downloading data from https://storage.googleapis.com/tensorflow/tf-keras-datasets/imdb.npz\n",
            "17465344/17464789 [==============================] - 1s 0us/step\n",
            "17473536/17464789 [==============================] - 1s 0us/step\n",
            "(25000, 'train sequences')\n",
            "(25000, 'test sequences')\n",
            "Pad sequences (samples x time)\n",
            "('input_train shape:', (25000, 500))\n",
            "('input_test shape:', (25000, 500))\n"
          ],
          "name": "stdout"
        }
      ]
    },
    {
      "cell_type": "markdown",
      "metadata": {
        "id": "ZyoOME4akyI8"
      },
      "source": [
        "Let’s train a simple recurrent network using an `Embedding` layer and a `SimpleRNN` layer."
      ]
    },
    {
      "cell_type": "code",
      "metadata": {
        "id": "VWM4mrw1kvOy",
        "colab": {
          "base_uri": "https://localhost:8080/"
        },
        "outputId": "354f62ac-2c18-454a-c1d9-99ca3e7edea4"
      },
      "source": [
        "from tensorflow.keras.layers import Dense, Embedding, SimpleRNN, LSTM\n",
        "from tensorflow.keras.models import Sequential\n",
        "\n",
        "model = Sequential()\n",
        "model.add(Embedding(max_features, 50))\n",
        "model.add(SimpleRNN(45))\n",
        "model.add(Dense(1, activation='sigmoid'))\n",
        "\n",
        "model.compile(optimizer='rmsprop', loss='binary_crossentropy', metrics=['acc'])\n",
        "history = model.fit(input_train, y_train,\n",
        "                    epochs=10,\n",
        "                    batch_size=128,\n",
        "                    validation_split=0.2)"
      ],
      "execution_count": null,
      "outputs": [
        {
          "output_type": "stream",
          "text": [
            "Train on 20000 samples, validate on 5000 samples\n",
            "Epoch 1/10\n",
            "20000/20000 [==============================] - 29s 1ms/sample - loss: 0.6049 - acc: 0.6571 - val_loss: 0.4371 - val_acc: 0.8052\n",
            "Epoch 2/10\n",
            "20000/20000 [==============================] - 28s 1ms/sample - loss: 0.3656 - acc: 0.8496 - val_loss: 0.4735 - val_acc: 0.7766\n",
            "Epoch 3/10\n",
            "20000/20000 [==============================] - 28s 1ms/sample - loss: 0.2633 - acc: 0.8975 - val_loss: 0.7626 - val_acc: 0.7450\n",
            "Epoch 4/10\n",
            "20000/20000 [==============================] - 28s 1ms/sample - loss: 0.2077 - acc: 0.9207 - val_loss: 0.4923 - val_acc: 0.7812\n",
            "Epoch 5/10\n",
            "20000/20000 [==============================] - 28s 1ms/sample - loss: 0.3043 - acc: 0.8687 - val_loss: 0.4779 - val_acc: 0.7984\n",
            "Epoch 6/10\n",
            "20000/20000 [==============================] - 28s 1ms/sample - loss: 0.1345 - acc: 0.9527 - val_loss: 0.4272 - val_acc: 0.8484\n",
            "Epoch 7/10\n",
            "20000/20000 [==============================] - 28s 1ms/sample - loss: 0.0706 - acc: 0.9769 - val_loss: 0.4739 - val_acc: 0.8512\n",
            "Epoch 8/10\n",
            "20000/20000 [==============================] - 28s 1ms/sample - loss: 0.0412 - acc: 0.9869 - val_loss: 0.7306 - val_acc: 0.7590\n",
            "Epoch 9/10\n",
            "20000/20000 [==============================] - 28s 1ms/sample - loss: 0.0235 - acc: 0.9931 - val_loss: 0.6581 - val_acc: 0.8112\n",
            "Epoch 10/10\n",
            "20000/20000 [==============================] - 28s 1ms/sample - loss: 0.0175 - acc: 0.9951 - val_loss: 0.6995 - val_acc: 0.8100\n"
          ],
          "name": "stdout"
        }
      ]
    },
    {
      "cell_type": "code",
      "metadata": {
        "id": "Tmt32urMlDhk",
        "colab": {
          "base_uri": "https://localhost:8080/",
          "height": 545
        },
        "outputId": "85b2fe57-577f-47f9-8c3f-bab143e9015d"
      },
      "source": [
        " import matplotlib.pyplot as plt\n",
        "\n",
        "acc = history.history['acc']\n",
        "val_acc = history.history['val_acc']\n",
        "loss = history.history['loss']\n",
        "val_loss = history.history['val_loss']\n",
        "epochs = range(1, len(acc) + 1)\n",
        "\n",
        "plt.plot(epochs, acc, 'bo', label='Training acc')\n",
        "plt.plot(epochs, val_acc, 'b', label='Validation acc')\n",
        "plt.title('Training and validation accuracy')\n",
        "plt.legend()\n",
        "plt.figure()\n",
        "plt.plot(epochs, loss, 'bo', label='Training loss')\n",
        "plt.plot(epochs, val_loss, 'b', label='Validation loss')\n",
        "plt.title('Training and validation loss')\n",
        "plt.legend()\n",
        "plt.show()\n"
      ],
      "execution_count": null,
      "outputs": [
        {
          "output_type": "display_data",
          "data": {
            "image/png": "[encoded data removed]",
            "text/plain": [
              "<Figure size 432x288 with 1 Axes>"
            ]
          },
          "metadata": {
            "tags": [],
            "needs_background": "light"
          }
        },
        {
          "output_type": "display_data",
          "data": {
            "image/png": "[encoded data removed]",
            "text/plain": [
              "<Figure size 432x288 with 1 Axes>"
            ]
          },
          "metadata": {
            "tags": [],
            "needs_background": "light"
          }
        }
      ]
    },
    {
      "cell_type": "markdown",
      "metadata": {
        "id": "XbmKDrGNlQPM"
      },
      "source": [
        "As a reminder, in chapter 3, the first naive approach to this dataset got you to a test\n",
        "accuracy of 88%. Unfortunately, this small recurrent network doesn’t perform well\n",
        "compared to this baseline (only 85% validation accuracy). Part of the problem is that\n",
        "your inputs only consider the first 500 words, rather than full sequences—hence, the\n",
        "RNN has access to less information than the earlier baseline model. The remainder of\n",
        "the problem is that `SimpleRNN` isn’t good at processing long sequences, such as text."
      ]
    }
  ]
}