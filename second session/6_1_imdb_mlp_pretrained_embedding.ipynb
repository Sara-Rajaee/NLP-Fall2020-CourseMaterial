{
  "nbformat": 4,
  "nbformat_minor": 0,
  "metadata": {
    "colab": {
      "name": "6.1.imdb_mlp_pretrained_embedding.ipynb",
      "provenance": []
    },
    "kernelspec": {
      "name": "python2",
      "display_name": "Python 2"
    },
    "accelerator": "GPU"
  },
  "cells": [
    {
      "cell_type": "markdown",
      "metadata": {
        "id": "W7ei0q_60_LX"
      },
      "source": [
        "*Mohammad Taher Pilehvar, Iran University of Science and Technology* - Based on a Keras tutorial by François Chollet"
      ]
    },
    {
      "cell_type": "markdown",
      "metadata": {
        "id": "vVi0q0N30_La"
      },
      "source": [
        "# Sentiment Analysis: IMDB movie reviews with pre-trained embeddings\n",
        "\n",
        "Download the raw [IMDB data](http://drive.iust.ac.ir/index.php/s/OE9ZnrL1oQXYFDj) and place it in your Google Drive."
      ]
    },
    {
      "cell_type": "code",
      "metadata": {
        "id": "CnydIqddfXRA"
      },
      "source": [
        "#!wget http://s3.amazonaws.com/text-datasets/aclImdb.zip\n",
        "#!cp /content/aclImdb.zip /content/gdrive/My\\ Drive/DL97/data/\n",
        "#!unzip -qq /content/gdrive/My\\ Drive/DL97/data/aclImdb.zip\n",
        "\n",
        "#!mv /content/aclImdb/train/ /content/gdrive/My\\ Drive/DL97/data/IMDB/\n",
        "#!wget http://nlp.stanford.edu/data/glove.6B.zip\n",
        "#!cp /content/glove.6B.zip /content/gdrive/My\\ Drive/DL97/data/embeddings/glove.6B.zip\n",
        "#!unzip /content/gdrive/My\\ Drive/DL97/data/embeddings/glove.6B.zip -d /content/gdrive/My\\ Drive/DL97/data/embeddings/"
      ],
      "execution_count": null,
      "outputs": []
    },
    {
      "cell_type": "code",
      "metadata": {
        "id": "UIpyOLnEbpxi",
        "colab": {
          "base_uri": "https://localhost:8080/",
          "height": 69
        },
        "outputId": "6983ed5d-70e0-4a93-cd78-12e5f52a5afe"
      },
      "source": [
        "import os, shutil\n",
        "import numpy as np\n",
        "\n",
        "from google.colab import drive\n",
        "drive.mount('/content/gdrive')\n",
        "\n",
        "# path to the directory where the original dataset was uncompressed\n",
        "imdb_dir = '/content/gdrive/My Drive/DL97/data/IMDB/'"
      ],
      "execution_count": null,
      "outputs": [
        {
          "output_type": "stream",
          "text": [
            "Drive already mounted at /content/gdrive; to attempt to forcibly remount, call drive.mount(\"/content/gdrive\", force_remount=True).\n"
          ],
          "name": "stdout"
        }
      ]
    },
    {
      "cell_type": "markdown",
      "metadata": {
        "id": "dU-YspP4c6li"
      },
      "source": [
        "Let’s collect the individual training reviews into a list of strings, one string per review. You’ll also collect the review labels (positive/negative) into a `labels` list."
      ]
    },
    {
      "cell_type": "code",
      "metadata": {
        "id": "jWCYnQ7W0_Lf"
      },
      "source": [
        "train_dir = os.path.join(imdb_dir, 'train')\n",
        "\n",
        "labels = []\n",
        "texts = []\n",
        "\n",
        "for label_type in ['neg', 'pos']:\n",
        "  dir_name = os.path.join(train_dir, label_type)\n",
        "\n",
        "  for fname in os.listdir(dir_name):\n",
        "    if fname[-4:] == '.txt':\n",
        "      f = open(os.path.join(dir_name, fname))\n",
        "      texts.append(f.read())\n",
        "      f.close()\n",
        "\n",
        "      if label_type == 'neg':\n",
        "          labels.append(0)\n",
        "      else:\n",
        "          labels.append(1)"
      ],
      "execution_count": null,
      "outputs": []
    },
    {
      "cell_type": "markdown",
      "metadata": {
        "id": "XJHSLi9QdCQ_"
      },
      "source": [
        "## Tokenization"
      ]
    },
    {
      "cell_type": "markdown",
      "metadata": {
        "id": "A_iAm4v_0_Lp"
      },
      "source": [
        "Let’s vectorize the text and prepare a training and validation split, using the concepts introduced earlier in this section. Because pretrained word embeddings are meant to be particularly useful on problems where little training data is available (otherwise, task-specific embeddings are likely to outperform them), we’ll add the following twist:\n",
        "\n",
        "restricting the training data to the first 200 samples. So you’ll learn to classify movie reviews after looking at just 200 examples."
      ]
    },
    {
      "cell_type": "code",
      "metadata": {
        "id": "nokMQufbdg9L",
        "colab": {
          "base_uri": "https://localhost:8080/",
          "height": 85
        },
        "outputId": "746486eb-8b1a-4fd2-8af8-5e32d7e609d4"
      },
      "source": [
        "from keras.preprocessing.text import Tokenizer\n",
        "from keras.preprocessing.sequence import pad_sequences\n",
        "import numpy as np\n",
        "\n",
        "maxlen = 100 # cuts off reviews after 100 words\n",
        "training_samples = 200 # trains on 200 samples\n",
        "validation_samples = 10000\n",
        "max_words = 10000 # considers only the top 10,000 words in the dataset\n",
        "\n",
        "tokenizer = Tokenizer(num_words=max_words)\n",
        "tokenizer.fit_on_texts(texts)\n",
        "sequences = tokenizer.texts_to_sequences(texts)\n",
        "\n",
        "word_index = tokenizer.word_index\n",
        "print('Found %s unique tokens.' % len(word_index))\n",
        "\n",
        "data = pad_sequences(sequences, maxlen=maxlen)\n",
        "\n",
        "labels = np.asarray(labels)\n",
        "print('Shape of data tensor:', data.shape)\n",
        "print('Shape of label tensor:', labels.shape)\n",
        "\n",
        "indices = np.arange(data.shape[0])\n",
        "np.random.shuffle(indices)\n",
        "data = data[indices]\n",
        "labels = labels[indices]\n",
        "\n",
        "x_train = data[:training_samples]\n",
        "y_train = labels[:training_samples]\n",
        "x_val = data[training_samples: training_samples + validation_samples]\n",
        "y_val = labels[training_samples: training_samples + validation_samples]"
      ],
      "execution_count": null,
      "outputs": [
        {
          "output_type": "stream",
          "text": [
            "Using TensorFlow backend.\n"
          ],
          "name": "stderr"
        },
        {
          "output_type": "stream",
          "text": [
            "Found 88584 unique tokens.\n",
            "('Shape of data tensor:', (25000, 100))\n",
            "('Shape of label tensor:', (25000,))\n"
          ],
          "name": "stdout"
        }
      ]
    },
    {
      "cell_type": "markdown",
      "metadata": {
        "id": "UEvE3CGJuiY3"
      },
      "source": [
        "## Download embeddings"
      ]
    },
    {
      "cell_type": "markdown",
      "metadata": {
        "id": "nmetm6yAfCqg"
      },
      "source": [
        "Go to https://nlp.stanford.edu/projects/glove, and download the precomputed embeddings from 2014 English Wikipedia. It’s an 822 MB zip file called glove.6B.zip, containing 100-dimensional embedding vectors for 400,000 words (or nonword tokens). Unzip it."
      ]
    },
    {
      "cell_type": "markdown",
      "metadata": {
        "id": "jN30BXhFurKH"
      },
      "source": [
        "Let’s parse the unzipped file (a .txt file) to build an index that maps words (as strings) to their vector representation (as number vectors)."
      ]
    },
    {
      "cell_type": "markdown",
      "metadata": {
        "id": "1f8v5OHsu8sr"
      },
      "source": [
        "Next, you’ll build an embedding matrix that you can load into an Embedding layer. It must be a matrix of shape (`max_words, embedding_dim`), where each entry `i` contains the `embedding_dim`-dimensional vector for the word of index `i` in the reference word\n",
        "index (built during tokenization). Note that index 0 isn’t supposed to stand for any word or token—it’s a placeholder."
      ]
    },
    {
      "cell_type": "code",
      "metadata": {
        "id": "lKXhun3HuvCK",
        "colab": {
          "base_uri": "https://localhost:8080/",
          "height": 34
        },
        "outputId": "bb98db23-67b4-425f-88ce-23c630c3dcde"
      },
      "source": [
        "embeddings_index = {}\n",
        "f = open('/content/gdrive/My Drive/DL97/data/embeddings/glove.6B.100d.txt')\n",
        "\n",
        "for line in f:\n",
        "  values = line.split()\n",
        "  word = values[0]\n",
        "  coefs = np.asarray(values[1:], dtype='float32')\n",
        "  embeddings_index[word] = coefs\n",
        "\n",
        "f.close()\n",
        "\n",
        "print('Found %s word vectors.' % len(embeddings_index))"
      ],
      "execution_count": null,
      "outputs": [
        {
          "output_type": "stream",
          "text": [
            "Found 400000 word vectors.\n"
          ],
          "name": "stdout"
        }
      ]
    },
    {
      "cell_type": "code",
      "metadata": {
        "id": "bkqTDTsyvJwg"
      },
      "source": [
        "embedding_dim = 100\n",
        "embedding_matrix = np.zeros((max_words, embedding_dim))\n",
        "\n",
        "for word, i in word_index.items():\n",
        "  if i < max_words:\n",
        "    embedding_vector = embeddings_index.get(word)\n",
        "    if embedding_vector is not None:\n",
        "      embedding_matrix[i] = embedding_vector"
      ],
      "execution_count": null,
      "outputs": []
    },
    {
      "cell_type": "markdown",
      "metadata": {
        "id": "MbfcN35hvPMU"
      },
      "source": [
        "## Define the model"
      ]
    },
    {
      "cell_type": "markdown",
      "metadata": {
        "id": "IjCCHXZRvTKP"
      },
      "source": [
        "from keras.layers import Embedding, Flatten, Dense\n",
        "model = Sequential()\n",
        "model.add(Embedding(max_words, embedding_dim, input_length=maxlen))\n",
        "model.add(Flatten())\n",
        "model.add(Dense(32, activation='relu'))\n",
        "model.add(Dense(1, activation='sigmoid'))\n",
        "model.summary()"
      ]
    },
    {
      "cell_type": "code",
      "metadata": {
        "id": "wQIHkkMfvT7k",
        "colab": {
          "base_uri": "https://localhost:8080/",
          "height": 272
        },
        "outputId": "62700e5d-a099-4621-af5c-af7303bdccab"
      },
      "source": [
        "from keras.layers import Embedding, Flatten, Dense\n",
        "from keras.models import Sequential\n",
        "\n",
        "model = Sequential()\n",
        "model.add(Embedding(max_words, embedding_dim, input_length=maxlen))\n",
        "model.add(Flatten())\n",
        "model.add(Dense(32, activation='relu'))\n",
        "model.add(Dense(1, activation='sigmoid'))\n",
        "model.summary()"
      ],
      "execution_count": null,
      "outputs": [
        {
          "output_type": "stream",
          "text": [
            "_________________________________________________________________\n",
            "Layer (type)                 Output Shape              Param #   \n",
            "=================================================================\n",
            "embedding_3 (Embedding)      (None, 100, 100)          1000000   \n",
            "_________________________________________________________________\n",
            "flatten_3 (Flatten)          (None, 10000)             0         \n",
            "_________________________________________________________________\n",
            "dense_5 (Dense)              (None, 32)                320032    \n",
            "_________________________________________________________________\n",
            "dense_6 (Dense)              (None, 1)                 33        \n",
            "=================================================================\n",
            "Total params: 1,320,065\n",
            "Trainable params: 1,320,065\n",
            "Non-trainable params: 0\n",
            "_________________________________________________________________\n"
          ],
          "name": "stdout"
        }
      ]
    },
    {
      "cell_type": "markdown",
      "metadata": {
        "id": "71o9nbGpvZSz"
      },
      "source": [
        "Load GloVe embeddings into the model."
      ]
    },
    {
      "cell_type": "code",
      "metadata": {
        "id": "Sk9jAEZwvb0X"
      },
      "source": [
        "model.layers[0].set_weights([embedding_matrix])\n",
        "model.layers[0].trainable = False"
      ],
      "execution_count": null,
      "outputs": []
    },
    {
      "cell_type": "markdown",
      "metadata": {
        "id": "xGeaZWTBvjHp"
      },
      "source": [
        "Additionally, you’ll freeze the `Embedding` layer (set its trainable attribute to False),\n",
        "following the same rationale you’re already familiar with in the context of pretrained\n",
        "convnet features: when parts of a model are pretrained (like your `Embedding` layer)\n",
        "and parts are randomly initialized (like your classifier), the pretrained parts shouldn’t\n",
        "be updated during training, to avoid forgetting what they already know."
      ]
    },
    {
      "cell_type": "markdown",
      "metadata": {
        "id": "IPgvSMhNvqZx"
      },
      "source": [
        "## Taining and evaluation"
      ]
    },
    {
      "cell_type": "code",
      "metadata": {
        "id": "Xin-BWuZvyBi",
        "colab": {
          "base_uri": "https://localhost:8080/",
          "height": 414
        },
        "outputId": "164746ce-c3b7-484d-e764-e698a9412c17"
      },
      "source": [
        "model.compile(optimizer='rmsprop',\n",
        "              loss='binary_crossentropy',\n",
        "               metrics=['acc'])\n",
        "\n",
        "history = model.fit(x_train, y_train,\n",
        "                    epochs=10,\n",
        "                    batch_size=32,\n",
        "                    validation_data=(x_val, y_val))\n",
        "\n",
        "model.save_weights('pre_trained_glove_model.h5')"
      ],
      "execution_count": null,
      "outputs": [
        {
          "output_type": "stream",
          "text": [
            "Train on 200 samples, validate on 10000 samples\n",
            "Epoch 1/10\n",
            "200/200 [==============================] - 1s 3ms/step - loss: 1.6307 - acc: 0.5300 - val_loss: 0.8438 - val_acc: 0.5039\n",
            "Epoch 2/10\n",
            "200/200 [==============================] - 0s 2ms/step - loss: 0.5021 - acc: 0.7600 - val_loss: 2.6034 - val_acc: 0.4948\n",
            "Epoch 3/10\n",
            "200/200 [==============================] - 0s 2ms/step - loss: 0.6154 - acc: 0.7300 - val_loss: 0.7428 - val_acc: 0.5552\n",
            "Epoch 4/10\n",
            "200/200 [==============================] - 0s 2ms/step - loss: 0.1636 - acc: 0.9800 - val_loss: 1.0181 - val_acc: 0.5120\n",
            "Epoch 5/10\n",
            "200/200 [==============================] - 0s 2ms/step - loss: 0.2630 - acc: 0.8800 - val_loss: 0.7862 - val_acc: 0.5568\n",
            "Epoch 6/10\n",
            "200/200 [==============================] - 0s 2ms/step - loss: 0.0788 - acc: 1.0000 - val_loss: 0.7164 - val_acc: 0.5944\n",
            "Epoch 7/10\n",
            "200/200 [==============================] - 0s 2ms/step - loss: 0.0464 - acc: 1.0000 - val_loss: 1.7440 - val_acc: 0.4999\n",
            "Epoch 8/10\n",
            "200/200 [==============================] - 0s 2ms/step - loss: 0.4379 - acc: 0.7850 - val_loss: 0.7855 - val_acc: 0.5840\n",
            "Epoch 9/10\n",
            "200/200 [==============================] - 0s 2ms/step - loss: 0.0256 - acc: 1.0000 - val_loss: 0.7528 - val_acc: 0.5947\n",
            "Epoch 10/10\n",
            "200/200 [==============================] - 0s 2ms/step - loss: 0.0173 - acc: 1.0000 - val_loss: 0.8387 - val_acc: 0.5844\n"
          ],
          "name": "stdout"
        }
      ]
    },
    {
      "cell_type": "markdown",
      "metadata": {
        "id": "gwJSZ4Qdv6H2"
      },
      "source": [
        "Plot the performance"
      ]
    },
    {
      "cell_type": "code",
      "metadata": {
        "id": "EgX9eChWv8I5",
        "colab": {
          "base_uri": "https://localhost:8080/",
          "height": 545
        },
        "outputId": "7575882b-5031-41af-9162-4c12c1087083"
      },
      "source": [
        "import matplotlib.pyplot as plt\n",
        "\n",
        "acc = history.history['acc']\n",
        "val_acc = history.history['val_acc']\n",
        "loss = history.history['loss']\n",
        "val_loss = history.history['val_loss']\n",
        "\n",
        "epochs = range(1, len(acc) + 1)\n",
        "\n",
        "plt.plot(epochs, acc, 'bo', label='Training acc')\n",
        "plt.plot(epochs, val_acc, 'b', label='Validation acc')\n",
        "plt.title('Training and validation accuracy')\n",
        "plt.legend()\n",
        "\n",
        "plt.figure()\n",
        "\n",
        "plt.plot(epochs, loss, 'bo', label='Training loss')\n",
        "plt.plot(epochs, val_loss, 'b', label='Validation loss')\n",
        "plt.title('Training and validation loss')\n",
        "plt.legend()\n",
        "\n",
        "plt.show()"
      ],
      "execution_count": null,
      "outputs": [
        {
          "output_type": "display_data",
          "data": {
            "image/png": "[encoded data removed]",
            "text/plain": [
              "<Figure size 432x288 with 1 Axes>"
            ]
          },
          "metadata": {
            "tags": []
          }
        },
        {
          "output_type": "display_data",
          "data": {
            "image/png": "[encoded data removed]",
            "text/plain": [
              "<Figure size 432x288 with 1 Axes>"
            ]
          },
          "metadata": {
            "tags": []
          }
        }
      ]
    },
    {
      "cell_type": "markdown",
      "metadata": {
        "id": "e7oOTXrMwQ5T"
      },
      "source": [
        "## Without pre-trained embeddings"
      ]
    },
    {
      "cell_type": "code",
      "metadata": {
        "id": "t9eEwybHwTbY",
        "colab": {
          "base_uri": "https://localhost:8080/",
          "height": 664
        },
        "outputId": "f0931d16-16e6-4f4d-d903-26789c98f02f"
      },
      "source": [
        "from keras.models import Sequential\n",
        "from keras.layers import Embedding, Flatten, Dense\n",
        "\n",
        "model = Sequential()\n",
        "model.add(Embedding(max_words, embedding_dim, input_length=maxlen))\n",
        "model.add(Flatten())\n",
        "model.add(Dense(32, activation='relu'))\n",
        "model.add(Dense(1, activation='sigmoid'))\n",
        "model.summary()\n",
        "\n",
        "model.compile(optimizer='rmsprop',\n",
        "              loss='binary_crossentropy',\n",
        "              metrics=['acc'])\n",
        "\n",
        "history = model.fit(x_train, y_train,\n",
        "                    epochs=10,\n",
        "                    batch_size=32,\n",
        "                    validation_data=(x_val, y_val))"
      ],
      "execution_count": null,
      "outputs": [
        {
          "output_type": "stream",
          "text": [
            "_________________________________________________________________\n",
            "Layer (type)                 Output Shape              Param #   \n",
            "=================================================================\n",
            "embedding_4 (Embedding)      (None, 100, 100)          1000000   \n",
            "_________________________________________________________________\n",
            "flatten_4 (Flatten)          (None, 10000)             0         \n",
            "_________________________________________________________________\n",
            "dense_7 (Dense)              (None, 32)                320032    \n",
            "_________________________________________________________________\n",
            "dense_8 (Dense)              (None, 1)                 33        \n",
            "=================================================================\n",
            "Total params: 1,320,065\n",
            "Trainable params: 1,320,065\n",
            "Non-trainable params: 0\n",
            "_________________________________________________________________\n",
            "Train on 200 samples, validate on 10000 samples\n",
            "Epoch 1/10\n",
            "200/200 [==============================] - 1s 3ms/step - loss: 0.6950 - acc: 0.5250 - val_loss: 0.6915 - val_acc: 0.5254\n",
            "Epoch 2/10\n",
            "200/200 [==============================] - 0s 2ms/step - loss: 0.5099 - acc: 0.9900 - val_loss: 0.6907 - val_acc: 0.5289\n",
            "Epoch 3/10\n",
            "200/200 [==============================] - 0s 2ms/step - loss: 0.2888 - acc: 0.9900 - val_loss: 0.6940 - val_acc: 0.5297\n",
            "Epoch 4/10\n",
            "200/200 [==============================] - 0s 2ms/step - loss: 0.1312 - acc: 1.0000 - val_loss: 0.6966 - val_acc: 0.5365\n",
            "Epoch 5/10\n",
            "200/200 [==============================] - 0s 2ms/step - loss: 0.0633 - acc: 1.0000 - val_loss: 0.6996 - val_acc: 0.5330\n",
            "Epoch 6/10\n",
            "200/200 [==============================] - 0s 2ms/step - loss: 0.0340 - acc: 1.0000 - val_loss: 0.7038 - val_acc: 0.5395\n",
            "Epoch 7/10\n",
            "200/200 [==============================] - 0s 2ms/step - loss: 0.0182 - acc: 1.0000 - val_loss: 0.7050 - val_acc: 0.5391\n",
            "Epoch 8/10\n",
            "200/200 [==============================] - 0s 2ms/step - loss: 0.0106 - acc: 1.0000 - val_loss: 0.7231 - val_acc: 0.5302\n",
            "Epoch 9/10\n",
            "200/200 [==============================] - 0s 2ms/step - loss: 0.0066 - acc: 1.0000 - val_loss: 0.7150 - val_acc: 0.5414\n",
            "Epoch 10/10\n",
            "200/200 [==============================] - 0s 2ms/step - loss: 0.0039 - acc: 1.0000 - val_loss: 0.7220 - val_acc: 0.5415\n"
          ],
          "name": "stdout"
        }
      ]
    },
    {
      "cell_type": "code",
      "metadata": {
        "id": "_7miShVnwjJz",
        "colab": {
          "base_uri": "https://localhost:8080/",
          "height": 545
        },
        "outputId": "6b96c43a-0202-458e-8a54-e0494d4924d3"
      },
      "source": [
        "\n",
        "acc = history.history['acc']\n",
        "val_acc = history.history['val_acc']\n",
        "loss = history.history['loss']\n",
        "val_loss = history.history['val_loss']\n",
        "\n",
        "epochs = range(1, len(acc) + 1)\n",
        "\n",
        "plt.plot(epochs, acc, 'bo', label='Training acc')\n",
        "plt.plot(epochs, val_acc, 'b', label='Validation acc')\n",
        "plt.title('Training and validation accuracy')\n",
        "plt.legend()\n",
        "\n",
        "plt.figure()\n",
        "\n",
        "plt.plot(epochs, loss, 'bo', label='Training loss')\n",
        "plt.plot(epochs, val_loss, 'b', label='Validation loss')\n",
        "plt.title('Training and validation loss')\n",
        "plt.legend()\n",
        "\n",
        "plt.show()"
      ],
      "execution_count": null,
      "outputs": [
        {
          "output_type": "display_data",
          "data": {
            "image/png": "[encoded data removed]",
            "text/plain": [
              "<Figure size 432x288 with 1 Axes>"
            ]
          },
          "metadata": {
            "tags": []
          }
        },
        {
          "output_type": "display_data",
          "data": {
            "image/png": "[encoded data removed]",
            "text/plain": [
              "<Figure size 432x288 with 1 Axes>"
            ]
          },
          "metadata": {
            "tags": []
          }
        }
      ]
    }
  ]
}